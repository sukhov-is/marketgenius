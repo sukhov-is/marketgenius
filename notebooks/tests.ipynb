{
 "cells": [
  {
   "cell_type": "code",
   "execution_count": null,
   "metadata": {},
   "outputs": [],
   "source": [
    "import pandas as pd\n",
    "\n",
    "# Загрузка TSV файла\n",
    "df = pd.read_csv(\"data/external/news_tg_csv/telegram_news.tsv\", sep=\"\\t\")\n",
    "\n",
    "# Сохранение в CSV\n",
    "df.to_csv(\"data/external/news_tg_csv/telegram_news_2.сsv\", sep=\",\", index=False)"
   ]
  },
  {
   "cell_type": "code",
   "execution_count": null,
   "metadata": {},
   "outputs": [],
   "source": [
    "import csv\n",
    "\n",
    "input_file = \"../data/100000_with_emb.csv\"\n",
    "output_file = \"../data/30000_with_emb.csv\"\n",
    "\n",
    "# Открываем входной файл\n",
    "with open(input_file, \"r\", newline=\"\", encoding=\"utf-8\") as infile:\n",
    "    reader = list(csv.reader(infile))  # Читаем все строки в список\n",
    "\n",
    "# Берем заголовок и последние 10 000 строк\n",
    "header = reader[0]  # Заголовок (первая строка)\n",
    "last_5000_rows = reader[-30000:]  # Последние 10 000 строк\n",
    "\n",
    "# Записываем в новый файл\n",
    "with open(output_file, \"w\", newline=\"\", encoding=\"utf-8\") as outfile:\n",
    "    writer = csv.writer(outfile)\n",
    "    writer.writerow(header)  # Записываем заголовок\n",
    "    writer.writerows(last_5000_rows)  # Записываем данные\n",
    "\n",
    "print(\"Готово! Последние 10 000 строк сохранены в\", output_file)"
   ]
  },
  {
   "cell_type": "code",
   "execution_count": null,
   "metadata": {},
   "outputs": [],
   "source": [
    "import pandas as pd\n",
    "\n",
    "# Пусть input.csv — исходный файл, а output.csv — результирующий файл\n",
    "input_file = 'input.csv'\n",
    "output_file = 'output.csv'\n",
    "\n",
    "# Список названий, при наличии которых строка будет удалена\n",
    "names_to_remove = [\"Раньше всех. Ну почти.\", \"ТАСС\", \"Интерфакс\"]\n",
    "\n",
    "# Читаем CSV файл\n",
    "df = pd.read_csv(input_file)\n",
    "\n",
    "# Фильтруем строки, оставляя только те, у которых в столбце channel_name нет указанных названий\n",
    "filtered_df = df[~df['channel_name'].isin(names_to_remove)]\n",
    "\n",
    "# Сохраняем результат в новый CSV файл (без добавления индекса)\n",
    "filtered_df.to_csv(output_file, index=False)\n",
    "\n",
    "print(f\"Файл '{output_file}' успешно создан!\")"
   ]
  },
  {
   "cell_type": "code",
   "execution_count": null,
   "metadata": {},
   "outputs": [],
   "source": [
    "import pandas as pd\n",
    "df = pd.read_csv(\"../data/external/news_tg_csv/telegram_news.сsv\")"
   ]
  },
  {
   "cell_type": "code",
   "execution_count": null,
   "metadata": {},
   "outputs": [],
   "source": [
    "df['datetime'].dtype"
   ]
  },
  {
   "cell_type": "code",
   "execution_count": null,
   "metadata": {},
   "outputs": [],
   "source": [
    "import pandas as pd\n",
    "df = pd.read_csv(\"../data/raw/news_with_emb.csv\")\n",
    "len(df)"
   ]
  }
 ],
 "metadata": {
  "kernelspec": {
   "display_name": "Python 3",
   "language": "python",
   "name": "python3"
  },
  "language_info": {
   "codemirror_mode": {
    "name": "ipython",
    "version": 3
   },
   "file_extension": ".py",
   "mimetype": "text/x-python",
   "name": "python",
   "nbconvert_exporter": "python",
   "pygments_lexer": "ipython3",
   "version": "3.11.5"
  }
 },
 "nbformat": 4,
 "nbformat_minor": 2
}
