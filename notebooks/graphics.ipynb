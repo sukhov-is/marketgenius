{
 "cells": [
  {
   "cell_type": "code",
   "execution_count": null,
   "metadata": {},
   "outputs": [],
   "source": [
    "import matplotlib.pyplot as plt\n",
    "import numpy as np"
   ]
  },
  {
   "cell_type": "code",
   "execution_count": null,
   "metadata": {},
   "outputs": [],
   "source": [
    "# Примерные данные из обзора литературы\n",
    "models = ['XGBoost', 'Random Forest', 'LSTM']\n",
    "rmse_without_news = [1.75, 1.85, 1.65]  # гипотетические значения ошибок без новостных данных\n",
    "rmse_with_news = [1.61, 1.78, 1.52]     # улучшенные значения с новостными данными\n",
    "\n",
    "# График сравнения моделей по RMSE\n",
    "fig, ax = plt.subplots(figsize=(10, 6))\n",
    "width = 0.35\n",
    "x = np.arange(len(models))\n",
    "\n",
    "ax.bar(x - width/2, rmse_without_news, width, label='Без новостных признаков')\n",
    "ax.bar(x + width/2, rmse_with_news, width, label='С новостными признаками')\n",
    "\n",
    "ax.set_xlabel('Модель машинного обучения')\n",
    "ax.set_ylabel('RMSE (чем ниже, тем лучше)')\n",
    "ax.set_title('Сравнение моделей ML с учетом и без учета новостных признаков')\n",
    "ax.set_xticks(x)\n",
    "ax.set_xticklabels(models)\n",
    "ax.legend()\n",
    "ax.grid(axis='y')\n",
    "\n",
    "plt.tight_layout()\n",
    "plt.show()"
   ]
  },
  {
   "cell_type": "code",
   "execution_count": null,
   "metadata": {},
   "outputs": [],
   "source": [
    "# Данные accuracy без и с признаками из анализа новостей (гипотетические, основаны на материалах)\n",
    "accuracy_without_news = [68, 55, 64]\n",
    "accuracy_with_news = [74, 60, 70]  # Улучшение при добавлении новостных признаков\n",
    "\n",
    "# График сравнения моделей по accuracy с и без признаков из анализа новостей\n",
    "fig, ax = plt.subplots(figsize=(10, 6))\n",
    "width = 0.35\n",
    "x = np.arange(len(models))\n",
    "\n",
    "bars1 = ax.bar(x - width/2, accuracy_without_news, width, label='Без новостных признаков', color='lightgray')\n",
    "bars2 = ax.bar(x + width/2, accuracy_with_news, width, label='С новостными признаками', color='skyblue')\n",
    "\n",
    "ax.set_xlabel('Модель машинного обучения')\n",
    "ax.set_ylabel('Accuracy (%)')\n",
    "ax.set_title('Сравнение точности моделей ML с использованием новостных признаков и без')\n",
    "ax.set_xticks(x)\n",
    "ax.set_xticklabels(models)\n",
    "ax.set_ylim(0, 100)\n",
    "ax.legend()\n",
    "ax.grid(axis='y')\n",
    "\n",
    "# Аннотации с процентами\n",
    "for bars in [bars1, bars2]:\n",
    "    for bar in bars:\n",
    "        height = bar.get_height()\n",
    "        ax.annotate(f'{height}%',\n",
    "                    xy=(bar.get_x() + bar.get_width() / 2, height),\n",
    "                    xytext=(0, 5),\n",
    "                    textcoords='offset points',\n",
    "                    ha='center', va='bottom', fontsize=12)\n",
    "\n",
    "plt.tight_layout()\n",
    "plt.show()"
   ]
  },
  {
   "cell_type": "code",
   "execution_count": null,
   "metadata": {},
   "outputs": [],
   "source": [
    "# Гипотетические данные о зависимости точности (Accuracy) от срока прогноза\n",
    "forecast_horizons = ['1 день', '3 дня', '7 дней', '14 дней', '30 дней']\n",
    "accuracy_values = [74, 70, 66, 60, 55]  # Точность постепенно снижается с увеличением срока\n",
    "\n",
    "# Строим график зависимости точности от срока прогноза\n",
    "plt.figure(figsize=(10, 6))\n",
    "plt.plot(forecast_horizons, accuracy_values, marker='o', linestyle='-', linewidth=2, color='purple')\n",
    "\n",
    "plt.title('Зависимость точности прогноза (Accuracy) от срока прогнозирования')\n",
    "plt.xlabel('Срок прогнозирования')\n",
    "plt.ylabel('Accuracy (%)')\n",
    "plt.grid(True)\n",
    "\n",
    "# Аннотации для наглядности\n",
    "for i, txt in enumerate(accuracy_values):\n",
    "    plt.annotate(f'{txt}%', (forecast_horizons[i], accuracy_values[i]), textcoords=\"offset points\", xytext=(0,10), ha='center', fontsize=12)\n",
    "\n",
    "plt.ylim(0, 100)\n",
    "plt.tight_layout()\n",
    "plt.show()"
   ]
  }
 ],
 "metadata": {
  "kernelspec": {
   "display_name": "Python (PyTorch GPU)",
   "language": "python",
   "name": "pytorch_gpu"
  },
  "language_info": {
   "codemirror_mode": {
    "name": "ipython",
    "version": 3
   },
   "file_extension": ".py",
   "mimetype": "text/x-python",
   "name": "python",
   "nbconvert_exporter": "python",
   "pygments_lexer": "ipython3",
   "version": "3.10.9"
  }
 },
 "nbformat": 4,
 "nbformat_minor": 2
}
