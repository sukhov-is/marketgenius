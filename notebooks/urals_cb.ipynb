{
 "cells": [
  {
   "cell_type": "code",
   "execution_count": null,
   "metadata": {},
   "outputs": [],
   "source": [
    "import requests\n",
    "import pandas as pd\n",
    "from datetime import datetime, timedelta\n",
    "import xml.etree.ElementTree as ET\n",
    "\n",
    "def get_urals_prices_cbr():\n",
    "    # Формируем даты для запроса\n",
    "    end_date = datetime.now()\n",
    "    start_date = end_date - timedelta(days=365*10)  # за последние 10 лет\n",
    "    \n",
    "    # Формируем URL запроса\n",
    "    url = \"http://www.cbr.ru/scripts/XML_dynamic.asp\"\n",
    "    params = {\n",
    "        'date_req1': start_date.strftime('%d/%m/%Y'),\n",
    "        'date_req2': end_date.strftime('%d/%m/%Y'),\n",
    "        'VAL_NM_RQ': 'R01239'  # Код для нефти Urals\n",
    "    }\n",
    "    \n",
    "    try:\n",
    "        # Выполняем запрос\n",
    "        response = requests.get(url, params=params)\n",
    "        response.raise_for_status()\n",
    "        \n",
    "        # Парсим XML\n",
    "        root = ET.fromstring(response.content)\n",
    "        \n",
    "        # Собираем данные\n",
    "        data = []\n",
    "        for record in root.findall('Record'):\n",
    "            date = record.get('Date')\n",
    "            value = record.find('Value').text\n",
    "            nominal = record.find('Nominal').text\n",
    "            \n",
    "            data.append({\n",
    "                'Date': datetime.strptime(date, '%d.%m.%Y'),\n",
    "                'Price': float(value.replace(',', '.')),\n",
    "                'Nominal': int(nominal)\n",
    "            })\n",
    "        \n",
    "        # Создаем DataFrame\n",
    "        df = pd.DataFrame(data)\n",
    "        \n",
    "        # Сортируем по дате\n",
    "        df = df.sort_values('Date')\n",
    "        \n",
    "        # Сохраняем в CSV\n",
    "        df.to_csv('../../../data/external/macro/urals_prices_cbr.csv', index=False)\n",
    "        \n",
    "        print(f\"Данные успешно загружены и сохранены в 'urals_prices_cbr.csv'\")\n",
    "        print(f\"Количество записей: {len(df)}\")\n",
    "        print(\"\\nПервые 5 записей:\")\n",
    "        print(df.head())\n",
    "        \n",
    "        return df\n",
    "        \n",
    "    except requests.exceptions.RequestException as e:\n",
    "        print(f\"Ошибка при запросе к API ЦБ: {e}\")\n",
    "        return None\n",
    "\n",
    "if __name__ == \"__main__\":\n",
    "    get_urals_prices_cbr()"
   ]
  },
  {
   "cell_type": "code",
   "execution_count": null,
   "metadata": {},
   "outputs": [],
   "source": [
    "df = pd.read_csv('urals_prices_cbr.csv')\n",
    "df[-10:]"
   ]
  }
 ],
 "metadata": {
  "kernelspec": {
   "display_name": "Python 3",
   "language": "python",
   "name": "python3"
  },
  "language_info": {
   "codemirror_mode": {
    "name": "ipython",
    "version": 3
   },
   "file_extension": ".py",
   "mimetype": "text/x-python",
   "name": "python",
   "nbconvert_exporter": "python",
   "pygments_lexer": "ipython3",
   "version": "3.12.1"
  }
 },
 "nbformat": 4,
 "nbformat_minor": 2
}
